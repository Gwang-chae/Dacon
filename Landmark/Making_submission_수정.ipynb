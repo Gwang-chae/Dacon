{
 "cells": [
  {
   "cell_type": "code",
   "execution_count": 2,
   "metadata": {},
   "outputs": [],
   "source": [
    "import numpy as np # linear algebra\n",
    "import pandas as pd # data processing, CSV file I/O (e.g. pd.read_csv)\n",
    "import matplotlib.pyplot as plt\n",
    "from sklearn.preprocessing import *\n",
    "from sklearn.model_selection import train_test_split\n",
    "import os\n",
    "import tensorflow as tf\n",
    "from tensorflow.keras import models, layers\n",
    "from tensorflow.keras import Input\n",
    "from tensorflow.keras.models import Model, load_model\n",
    "from tensorflow.keras.preprocessing.image import ImageDataGenerator\n",
    "from tensorflow.keras import optimizers, initializers, regularizers, metrics\n",
    "from tensorflow.keras.callbacks import ModelCheckpoint, EarlyStopping\n",
    "from tensorflow.keras.layers import BatchNormalization, Conv2D, Activation , AveragePooling2D , Input ,Dropout\n",
    "from tensorflow.keras.layers import Dense,  MaxPooling2D, Add, Flatten\n",
    "from tensorflow.keras.models import Sequential\n",
    "from tensorflow.keras.optimizers import Adam\n",
    "from tensorflow.keras.callbacks import EarlyStopping, ReduceLROnPlateau\n",
    "import tensorflow_addons as tfa\n",
    "\n",
    "# GPU 설정\n",
    "gpus = tf.config.experimental.list_physical_devices('GPU')\n",
    "if gpus:\n",
    "    # 특정 GPU에 1GB 메모리만 할당하도록 제한\n",
    "    try:\n",
    "        tf.config.experimental.set_visible_devices(gpus[0], 'GPU')\n",
    "        tf.config.experimental.set_virtual_device_configuration(\n",
    "            gpus[1],\n",
    "            [tf.config.experimental.VirtualDeviceConfiguration(memory_limit=3548)])\n",
    "    except RuntimeError as e:\n",
    "    # 프로그램 시작시에 가상 장치가 설정되어야만 합니다\n",
    "        print(e)"
   ]
  },
  {
   "cell_type": "markdown",
   "metadata": {},
   "source": [
    "# 테스트 파일을  generator로 예측하신다면 아래 코드 !"
   ]
  },
  {
   "cell_type": "code",
   "execution_count": 2,
   "metadata": {},
   "outputs": [
    {
     "data": {
      "text/html": [
       "<div>\n",
       "<style scoped>\n",
       "    .dataframe tbody tr th:only-of-type {\n",
       "        vertical-align: middle;\n",
       "    }\n",
       "\n",
       "    .dataframe tbody tr th {\n",
       "        vertical-align: top;\n",
       "    }\n",
       "\n",
       "    .dataframe thead th {\n",
       "        text-align: right;\n",
       "    }\n",
       "</style>\n",
       "<table border=\"1\" class=\"dataframe\">\n",
       "  <thead>\n",
       "    <tr style=\"text-align: right;\">\n",
       "      <th></th>\n",
       "      <th>file</th>\n",
       "      <th>id</th>\n",
       "    </tr>\n",
       "  </thead>\n",
       "  <tbody>\n",
       "    <tr>\n",
       "      <th>0</th>\n",
       "      <td>0/0hmnf5orki.JPG</td>\n",
       "      <td>0hmnf5orki</td>\n",
       "    </tr>\n",
       "    <tr>\n",
       "      <th>1</th>\n",
       "      <td>0/0bgj9co0zl.JPG</td>\n",
       "      <td>0bgj9co0zl</td>\n",
       "    </tr>\n",
       "    <tr>\n",
       "      <th>2</th>\n",
       "      <td>0/03123sl42g.JPG</td>\n",
       "      <td>03123sl42g</td>\n",
       "    </tr>\n",
       "    <tr>\n",
       "      <th>3</th>\n",
       "      <td>0/0vwaki2su2.JPG</td>\n",
       "      <td>0vwaki2su2</td>\n",
       "    </tr>\n",
       "    <tr>\n",
       "      <th>4</th>\n",
       "      <td>0/09jgq862fk.JPG</td>\n",
       "      <td>09jgq862fk</td>\n",
       "    </tr>\n",
       "  </tbody>\n",
       "</table>\n",
       "</div>"
      ],
      "text/plain": [
       "               file          id\n",
       "0  0/0hmnf5orki.JPG  0hmnf5orki\n",
       "1  0/0bgj9co0zl.JPG  0bgj9co0zl\n",
       "2  0/03123sl42g.JPG  03123sl42g\n",
       "3  0/0vwaki2su2.JPG  0vwaki2su2\n",
       "4  0/09jgq862fk.JPG  09jgq862fk"
      ]
     },
     "metadata": {},
     "output_type": "display_data"
    },
    {
     "name": "stdout",
     "output_type": "stream",
     "text": [
      "(37964, 2)\n"
     ]
    }
   ],
   "source": [
    "# test 데이터 안 '6' 폴더에 있는 체크포인트 오류 데이터 제거 후 실행\n",
    "path = './public'\n",
    "test_dirs = path + '/test'\n",
    "files = []\n",
    "ids=[]\n",
    "for img_cat in os.listdir(test_dirs):\n",
    "    id_dir =  img_cat\n",
    "    for filename in os.listdir(test_dirs + '/' + id_dir):\n",
    "        files.append(id_dir + '/' +filename)\n",
    "        ids.append(filename.split('.JPG')[0])\n",
    "                           \n",
    "test_data = pd.DataFrame(\n",
    "                    {\"file\":files,\n",
    "                    \"id\":ids}\n",
    "                )    \n",
    "\n",
    "display(test_data.head())\n",
    "print(test_data.shape)"
   ]
  },
  {
   "cell_type": "code",
   "execution_count": 3,
   "metadata": {},
   "outputs": [],
   "source": [
    "# 데이터 형상 관련 상수 정의 (훈련할때 썼던 이미지 크기 사용)\n",
    "IMAGE_WIDTH=224\n",
    "IMAGE_HEIGHT=224\n",
    "IMAGE_SIZE=(IMAGE_WIDTH, IMAGE_HEIGHT)\n",
    "IMAGE_CHANNEL=3\n",
    "batch_size=128"
   ]
  },
  {
   "cell_type": "code",
   "execution_count": 4,
   "metadata": {},
   "outputs": [
    {
     "name": "stdout",
     "output_type": "stream",
     "text": [
      "Found 37964 validated image filenames.\n"
     ]
    }
   ],
   "source": [
    "# test\n",
    "with tf.device('/device:GPU:0'):\n",
    "    test_datagen=ImageDataGenerator(rescale=1./255) # MinMaxScaling\n",
    "    test_generator=test_datagen.flow_from_dataframe(\n",
    "        test_data,\n",
    "        test_dirs,\n",
    "        x_col= \"file\",\n",
    "        y_col= \"id\",\n",
    "        target_size = IMAGE_SIZE,\n",
    "        class_mode = \"raw\",\n",
    "        batch_size = batch_size,\n",
    "        shuffle=False)\n"
   ]
  },
  {
   "cell_type": "code",
   "execution_count": 5,
   "metadata": {},
   "outputs": [],
   "source": [
    "# 모델불러오기\n",
    "with tf.device('/device:GPU:0'):\n",
    "\n",
    "    model = load_model('./landmark_MobileNetv2_model_270_480_radam_2.h5', compile=False)"
   ]
  },
  {
   "cell_type": "code",
   "execution_count": null,
   "metadata": {},
   "outputs": [],
   "source": [
    "with tf.device('/device:GPU:0'):\n",
    "    model.compile(loss='categorical_crossentropy',\n",
    "                optimizer=optimizers.RectifiedAdam(),\n",
    "                metrics=['accuracy'])\n",
    "    pred = model.predict(test_generator)"
   ]
  },
  {
   "cell_type": "code",
   "execution_count": 7,
   "metadata": {},
   "outputs": [],
   "source": [
    "pred_df = pd.DataFrame({'id':test_data['id'].values,\n",
    "                       'landmark_id':np.argmax(pred, axis=1),\n",
    "                       'conf':np.max(pred, axis=1)})"
   ]
  },
  {
   "cell_type": "code",
   "execution_count": 10,
   "metadata": {},
   "outputs": [
    {
     "data": {
      "text/html": [
       "<div>\n",
       "<style scoped>\n",
       "    .dataframe tbody tr th:only-of-type {\n",
       "        vertical-align: middle;\n",
       "    }\n",
       "\n",
       "    .dataframe tbody tr th {\n",
       "        vertical-align: top;\n",
       "    }\n",
       "\n",
       "    .dataframe thead th {\n",
       "        text-align: right;\n",
       "    }\n",
       "</style>\n",
       "<table border=\"1\" class=\"dataframe\">\n",
       "  <thead>\n",
       "    <tr style=\"text-align: right;\">\n",
       "      <th></th>\n",
       "      <th>id</th>\n",
       "      <th>landmark_id</th>\n",
       "      <th>conf</th>\n",
       "    </tr>\n",
       "  </thead>\n",
       "  <tbody>\n",
       "    <tr>\n",
       "      <th>0</th>\n",
       "      <td>xlf1tgh2ih</td>\n",
       "      <td>956</td>\n",
       "      <td>1.000000</td>\n",
       "    </tr>\n",
       "    <tr>\n",
       "      <th>1</th>\n",
       "      <td>68a3ot4osk</td>\n",
       "      <td>956</td>\n",
       "      <td>0.999990</td>\n",
       "    </tr>\n",
       "    <tr>\n",
       "      <th>2</th>\n",
       "      <td>si2lek4u0a</td>\n",
       "      <td>956</td>\n",
       "      <td>0.999785</td>\n",
       "    </tr>\n",
       "    <tr>\n",
       "      <th>3</th>\n",
       "      <td>rmtqxhipnv</td>\n",
       "      <td>956</td>\n",
       "      <td>0.936642</td>\n",
       "    </tr>\n",
       "    <tr>\n",
       "      <th>4</th>\n",
       "      <td>2flmjdud0e</td>\n",
       "      <td>956</td>\n",
       "      <td>1.000000</td>\n",
       "    </tr>\n",
       "  </tbody>\n",
       "</table>\n",
       "</div>"
      ],
      "text/plain": [
       "           id  landmark_id      conf\n",
       "0  xlf1tgh2ih          956  1.000000\n",
       "1  68a3ot4osk          956  0.999990\n",
       "2  si2lek4u0a          956  0.999785\n",
       "3  rmtqxhipnv          956  0.936642\n",
       "4  2flmjdud0e          956  1.000000"
      ]
     },
     "execution_count": 10,
     "metadata": {},
     "output_type": "execute_result"
    }
   ],
   "source": [
    "submission = pd.read_csv(path + '/sample_submisstion.csv')\n",
    "sub = pd.merge(submission[['id']], pred_df, on='id', how='left')\n",
    "sub.head()\n"
   ]
  },
  {
   "cell_type": "code",
   "execution_count": 11,
   "metadata": {},
   "outputs": [],
   "source": [
    "sub.to_csv(path + '/Densenet.csv', encoding='cp949', index=False)"
   ]
  },
  {
   "cell_type": "markdown",
   "metadata": {},
   "source": [
    "# 테스트 파일을  TFRecord로 예측하신다면 아래 코드 ! "
   ]
  },
  {
   "cell_type": "code",
   "execution_count": null,
   "metadata": {},
   "outputs": [],
   "source": [
    "with tf.device('/device:GPU:1'):\n",
    "    path = './public'\n",
    "    test_tfrecord_path = path + '/tf_record_test.tfrecords'\n",
    "    BATCH_SIZE = 128\n",
    "    NUM_CLASS = 1049\n",
    "    img_size = (270,480) # <- 학습할때 썼던 이미지 사이즈 입력해주세요 !\n",
    "    \n",
    "    image_feature_description_test = {\n",
    "        'image_raw': tf.io.FixedLenFeature([], tf.string),\n",
    "        'id': tf.io.FixedLenFeature([], tf.string),\n",
    "    \n",
    "    }\n",
    "\n",
    "\n",
    "    def _parse_image_function_test(example_proto):\n",
    "        return tf.io.parse_single_example(example_proto, image_feature_description_test)\n",
    "\n",
    "    def map_func_test(target_record):\n",
    "        img = target_record['image_raw']\n",
    "        label = target_record['id']\n",
    "        img = tf.image.decode_jpeg(img, channels=3)\n",
    "        img = tf.dtypes.cast(img, tf.float32)\n",
    "        return img, label\n",
    "\n",
    "    def prep_func_test(image, label):\n",
    "        result_image = image / 255\n",
    "        result_image = tf.image.resize(result_image, img_size)\n",
    "\n",
    "        return result_image, label\n",
    "\n",
    "    test_dataset = tf.data.TFRecordDataset(test_tfrecord_path, compression_type='GZIP')\n",
    "    test_dataset = test_dataset.map(_parse_image_function_test, num_parallel_calls=tf.data.experimental.AUTOTUNE)\n",
    "    test_dataset = test_dataset.map(map_func_test, num_parallel_calls=tf.data.experimental.AUTOTUNE)\n",
    "    test_dataset = test_dataset.batch(BATCH_SIZE)\n",
    "    test_dataset = test_dataset.map(prep_func_test, num_parallel_calls=tf.data.experimental.AUTOTUNE)\n",
    "    test_dataset = test_dataset.prefetch(buffer_size=tf.data.experimental.AUTOTUNE)\n",
    "    \n",
    "    \n",
    "    # 모델불러오기\n",
    "    model = load_model('./landmark_MobileNetv2_model_270_480_radam_2.h5', compile=False) # 학습하셨던 모델을 불러와주세요\n",
    "    id_list = []\n",
    "    for _, label in test_dataset:\n",
    "        id_list.extend(list(label))\n",
    "\n",
    "    pred = model.predict(test_dataset)\n",
    "    \n",
    "    pred_df = pd.DataFrame({'id':id_list,\n",
    "                       'landmark_id':np.argmax(pred,axis=1),\n",
    "                       'conf':np.max(pred,axis=1)})\n",
    "    pred_df['id'] = pred_df['id'].apply(lambda x : x.numpy().decode('utf-8'))\n",
    "    \n",
    "    submission = pd.read_csv(path + '/sample_submisstion.csv')\n",
    "    sub = pd.merge(submission[['id']], pred_df, on='id', how='left')\n",
    "    sub.head()"
   ]
  },
  {
   "cell_type": "code",
   "execution_count": null,
   "metadata": {},
   "outputs": [],
   "source": [
    "sub.to_csv(path + '/Densenet.csv', encoding='cp949', index=False) # 저장할 파일 명 정해서 제출파일 만들어주세요~~~"
   ]
  }
 ],
 "metadata": {
  "kernelspec": {
   "display_name": "Python [conda env:tensorflow2_latest_p37] *",
   "language": "python",
   "name": "conda-env-tensorflow2_latest_p37-py"
  },
  "language_info": {
   "codemirror_mode": {
    "name": "ipython",
    "version": 3
   },
   "file_extension": ".py",
   "mimetype": "text/x-python",
   "name": "python",
   "nbconvert_exporter": "python",
   "pygments_lexer": "ipython3",
   "version": "3.7.6"
  }
 },
 "nbformat": 4,
 "nbformat_minor": 4
}
