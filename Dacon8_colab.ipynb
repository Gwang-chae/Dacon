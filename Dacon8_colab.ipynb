{
 "cells": [
  {
   "cell_type": "code",
   "execution_count": null,
   "metadata": {},
   "outputs": [],
   "source": [
    "# pycaret을 colab에서 사용하기 위해 tensorflow 2.3.1로 업그레이드\n",
    "# 업그레이드 이후 런타임 재시작\n",
    "!pip install -U tensorflow"
   ]
  },
  {
   "cell_type": "code",
   "execution_count": null,
   "metadata": {
    "id": "vo-VmanuDfgp"
   },
   "outputs": [],
   "source": [
    "import numpy as np\n",
    "import pandas as pd\n",
    "import tensorflow as tf\n",
    "from sklearn.preprocessing import MinMaxScaler\n",
    "from sklearn.model_selection import train_test_split, GridSearchCV\n",
    "from tensorflow.keras.models import Sequential\n",
    "from tensorflow.keras.layers import Dense, Dropout, BatchNormalization, PReLU\n",
    "from tensorflow.keras.optimizers import Adam\n",
    "from tensorflow.keras.callbacks import ModelCheckpoint, EarlyStopping, ReduceLROnPlateau\n",
    "\n",
    "train = pd.read_csv('/content/drive/My Drive/Machine Learning/open data/train.csv')\n",
    "test = pd.read_csv('/content/drive/My Drive/Machine Learning/open data/test_x.csv')\n",
    "\n",
    "print('train 자료의 결측치는 모두 {}개입니다.'.format(sum(train.isnull().sum())))\n",
    "print('test 자료의 결측치는 모두 {}개입니다.'.format(sum(test.isnull().sum())))\n",
    "\n",
    "drop_list = ['QaE', 'QbE', 'QcE', 'QdE', 'QeE',\n",
    "             'QfE', 'QgE', 'QhE', 'QiE', 'QjE',\n",
    "             'QkE', 'QlE', 'QmE', 'QnE', 'QoE',\n",
    "             'QpE', 'QqE', 'QrE', 'QsE', 'QtE',\n",
    "             'index']\n",
    "\n",
    "Y = 2 - train['voted']\n",
    "# 불필요한 column 제거 및 label 분리\n",
    "X = train.drop(drop_list + ['voted'], axis=1)\n",
    "\n",
    "replace_dict = {'education': str, 'engnat': str, 'married': str, 'urban': str}\n",
    "\n",
    "# replace_dict에 해당하는 타입으로 변경\n",
    "X = X.astype(replace_dict)\n",
    "# 변수 생성\n",
    "X = pd.get_dummies(X)\n",
    "\n",
    "# - 부호 문장을 reverse 처리(Domain)\n",
    "flipping_columns = [\"QeA\", \"QfA\", \"QkA\", \"QqA\", \"QrA\"]\n",
    "for flip in flipping_columns: \n",
    "    X[flip] = 6 - X[flip]\n",
    "    \n",
    "# - 부호인 secret 문장을 reverse 처리(Domain)\n",
    "flipping_secret_columns = [\"QaA\", \"QdA\", \"QgA\", \"QiA\", \"QnA\"]\n",
    "for flip in flipping_secret_columns: \n",
    "    X[flip] = 6 - X[flip]\n",
    "\n",
    "# Normalization\n",
    "scaler = MinMaxScaler()\n",
    "scaler.fit(X)\n",
    "X = scaler.transform(X)\n",
    "\n",
    "# train, valid set 분리\n",
    "x_train, x_val, y_train, y_val = \\\n",
    "train_test_split(X, Y, test_size=0.2, random_state=42, stratify=Y)"
   ]
  },
  {
   "cell_type": "code",
   "execution_count": null,
   "metadata": {
    "id": "xRT5SZ3VDzlW"
   },
   "outputs": [],
   "source": [
    "test = test.drop(drop_list, axis=1)\n",
    "test = test.astype(replace_dict)\n",
    "test = pd.get_dummies(test)\n",
    "\n",
    "# - 부호 문장을 reverse 처리(Domain)\n",
    "flipping_columns = [\"QeA\", \"QfA\", \"QkA\", \"QqA\", \"QrA\"]\n",
    "for flip in flipping_columns: \n",
    "    test[flip] = 6 - test[flip]\n",
    "    \n",
    "# - 부호인 secret 문장을 reverse 처리(Domain)\n",
    "flipping_secret_columns = [\"QaA\", \"QdA\", \"QgA\", \"QiA\", \"QnA\"]\n",
    "for flip in flipping_secret_columns: \n",
    "    test[flip] = 6 - test[flip]\n",
    "    \n",
    "scaler.fit(test)\n",
    "test = scaler.transform(test)"
   ]
  },
  {
   "cell_type": "code",
   "execution_count": null,
   "metadata": {},
   "outputs": [],
   "source": [
    "# train = train.drop('index',axis=1)\n",
    "# Auto ML을 사용하기 위해 pycaret 설치\n",
    "# !pip install pycaret\n",
    "from pycaret.classification import *\n",
    "\n",
    "clf = setup(data = X, target = 'voted')"
   ]
  },
  {
   "cell_type": "code",
   "execution_count": null,
   "metadata": {},
   "outputs": [],
   "source": [
    "best_8 = compare_models(sort = 'AUC', n_select = 8)"
   ]
  },
  {
   "cell_type": "code",
   "execution_count": null,
   "metadata": {
    "id": "UfQnH7MRK30z"
   },
   "outputs": [],
   "source": [
    "from tensorflow.keras.metrics import AUC\n",
    "def build_nn():\n",
    "    earlystop = EarlyStopping(patience=10)\n",
    "    learning_rate_reduction = ReduceLROnPlateau(monitor='val_loss',\n",
    "                                            patience=2,\n",
    "                                            factor=0.8,\n",
    "                                            min_lr=1e-7,\n",
    "                                            verbose=1)\n",
    "    callbacks = [earlystop, learning_rate_reduction]\n",
    "        \n",
    "    model = Sequential()\n",
    "    model.add(Dense(2048, kernel_initializer='he_uniform',\n",
    "                    input_shape=(x_train.shape[1],)))  # input_shape로 input layer의 역할까지도 처리\n",
    "    model.add(PReLU())\n",
    "    model.add(BatchNormalization())\n",
    "    model.add(Dropout(0.7))\n",
    "\n",
    "    model.add(Dense(1024, kernel_initializer='he_normal'))\n",
    "    model.add(PReLU())\n",
    "    model.add(BatchNormalization())\n",
    "    model.add(Dropout(0.7))\n",
    "\n",
    "    model.add(Dense(512, kernel_initializer='he_normal'))\n",
    "    model.add(PReLU())\n",
    "    model.add(BatchNormalization())\n",
    "    model.add(Dropout(0.7))\n",
    "\n",
    "    model.add(Dense(1, activation='sigmoid', kernel_initializer='he_normal'))\n",
    "\n",
    "    model.compile(optimizer=Adam(learning_rate=0.000035),\n",
    "                  loss='binary_crossentropy',   # sparse를 붙여주면 one-hot encoing 작업을 생략 가능\n",
    "                  metrics=['binary_accuracy',AUC()])\n",
    "\n",
    "    model.fit(x_train,\n",
    "              y_train,\n",
    "              epochs=100,\n",
    "              verbose=1,\n",
    "              validation_data=(x_val,y_val),\n",
    "              callbacks=callbacks)\n",
    "    \n",
    "    return model"
   ]
  },
  {
   "cell_type": "code",
   "execution_count": null,
   "metadata": {
    "id": "DSfnJUJzLegi"
   },
   "outputs": [],
   "source": [
    "from tensorflow.keras.wrappers.scikit_learn import KerasClassifier\n",
    "DNN_clf = KerasClassifier(build_fn=build_nn)\n",
    "DNN_clf._estimator_type=\"classifier\""
   ]
  },
  {
   "cell_type": "code",
   "execution_count": null,
   "metadata": {
    "id": "U-GoHJoxLhrS"
   },
   "outputs": [],
   "source": [
    "from sklearn.ensemble import VotingClassifier\n",
    "voting = VotingClassifier(estimators=[('best_8', best_8[0]),('DNN', DNN_clf)], voting='soft')\n",
    "voting.fit(x_train, y_train)\n",
    "pred_voting = voting.predict(x_val)\n",
    "print(pred_voting)"
   ]
  },
  {
   "cell_type": "code",
   "execution_count": null,
   "metadata": {
    "id": "BnyJTAs_UlKg"
   },
   "outputs": [],
   "source": [
    "prob = voting.predict_proba(x_val)\n",
    "score = prob[:,1]"
   ]
  },
  {
   "cell_type": "code",
   "execution_count": null,
   "metadata": {
    "id": "jmumXW8id_wi"
   },
   "outputs": [],
   "source": [
    "from sklearn.metrics import roc_auc_score\n",
    "# voting_result = voting.predict(test)\n",
    "# print(voting_result)\n",
    "print(classification_report(y_val, pred_voting))\n",
    "print(roc_auc_score(y_val, score))"
   ]
  },
  {
   "cell_type": "code",
   "execution_count": null,
   "metadata": {
    "id": "PFmhTqnAXHx3"
   },
   "outputs": [],
   "source": [
    "test_prob = voting.predict_proba(test)\n",
    "submission_prob = 2-test_prob[:,1]\n",
    "print(submission_prob)"
   ]
  },
  {
   "cell_type": "code",
   "execution_count": null,
   "metadata": {
    "id": "gJszjP6sW1QB"
   },
   "outputs": [],
   "source": [
    "submission = pd.read_csv('/content/drive/My Drive/Machine Learning/open data/submission.csv')\n",
    "submission['voted'] = submission_prob\n",
    "submission.to_csv('/content/drive/My Drive/Machine Learning/open data/submission_1111_voting.csv', index=False)"
   ]
  }
 ],
 "metadata": {
  "accelerator": "GPU",
  "colab": {
   "authorship_tag": "ABX9TyMvfecO5pBnD6Z1f+XL6hwM",
   "collapsed_sections": [],
   "mount_file_id": "1-n3gcQ-b5apgL-9wQpZekprlbi8zitp5",
   "name": "Dacon8",
   "private_outputs": true,
   "provenance": []
  },
  "kernelspec": {
   "display_name": "Python 3",
   "language": "python",
   "name": "python3"
  },
  "language_info": {
   "codemirror_mode": {
    "name": "ipython",
    "version": 3
   },
   "file_extension": ".py",
   "mimetype": "text/x-python",
   "name": "python",
   "nbconvert_exporter": "python",
   "pygments_lexer": "ipython3",
   "version": "3.8.3"
  }
 },
 "nbformat": 4,
 "nbformat_minor": 1
}
